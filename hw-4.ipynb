{
 "cells": [
  {
   "cell_type": "code",
   "execution_count": null,
   "metadata": {},
   "outputs": [],
   "source": [
    "%matplotlib inline\n",
    "import matplotlib.pyplot as plt\n",
    "import numpy as np"
   ]
  },
  {
   "cell_type": "code",
   "execution_count": null,
   "metadata": {},
   "outputs": [],
   "source": [
    "def func(x):\n",
    "    return np.exp(-2*x)*np.cos(10*x)\n",
    "\n",
    "def func_integral(x):\n",
    "    return (-1/52)*np.exp(-2*x)*(np.cos(10*x)-5*np.sin(10*x))"
   ]
  },
  {
   "cell_type": "markdown",
   "metadata": {},
   "source": [
    "Define Trapezoidal Method"
   ]
  },
  {
   "cell_type": "code",
   "execution_count": null,
   "metadata": {},
   "outputs": [],
   "source": [
    "# Core\n",
    "\n",
    "def trapezoid_core(f,x,h):\n",
    "    return 0.5*h*(f(x+h) + f(x))\n",
    "\n",
    "# Define a wrapper function to perform Simpson's method\n",
    "\n",
    "def trapezoid_method(f,a,b,N):\n",
    "    # f == function to integrate\n",
    "    # a == lower limit f integration\n",
    "    # b = upper limit of integration\n",
    "    # N == number of function evaluations to use\n",
    "    # number of chunks will be N-1, so if N is odd, then we don't need to adjust the last segment\n",
    "    \n",
    "    # define x values to perform trapezoidal rule\n",
    "    x = np.linspace(a,b,N)\n",
    "    h = x[1] - x[0]\n",
    "    \n",
    "    # define the value of the integral\n",
    "    Fint = 0.0\n",
    "    \n",
    "    # perform the integral using trapezoidal rule\n",
    "    for i in range(0, len(x) - 1,1):\n",
    "        Fint += trapezoid_core(f,x[i],h)\n",
    "        \n",
    "    return Fint"
   ]
  },
  {
   "cell_type": "markdown",
   "metadata": {},
   "source": [
    "Define Simpson's Method"
   ]
  },
  {
   "cell_type": "code",
   "execution_count": null,
   "metadata": {},
   "outputs": [],
   "source": [
    "# Core\n",
    "\n",
    "def simpson_core(f,x,h):\n",
    "    return h*(f(x) + 4*f(x+h) + f(x+2*h))/3\n",
    "\n",
    "# Define a wrapper function to perform Simpson's method\n",
    "\n",
    "def simpson_method(f,a,b,N):\n",
    "    \n",
    "    x = np.linspace(a,b,N)\n",
    "    h = x[1] - x[0]\n",
    "    \n",
    "    Fint = 0.0\n",
    "    \n",
    "    # if n is odd or even, we have different number of chunks to add\n",
    "    \n",
    "    if ((N%2) == 0):\n",
    "        lim = 3\n",
    "    else:\n",
    "        lim = 2\n",
    "    \n",
    "    #perform the integral using Simpson's method\n",
    "    \n",
    "    for i in range(0, len(x)-2, 2):\n",
    "        Fint += simpson_core(f,x[i],h)\n",
    "        \n",
    "    if ((N%2) == 0):\n",
    "        Fint += simpson_core(f,x[-2],0.5*h)\n",
    "        \n",
    "    return Fint\n",
    "    "
   ]
  },
  {
   "cell_type": "markdown",
   "metadata": {},
   "source": [
    "Romberg Integration"
   ]
  },
  {
   "cell_type": "code",
   "execution_count": null,
   "metadata": {},
   "outputs": [],
   "source": [
    "# Core\n",
    "\n",
    "def romberg_core(f,a,b,i):\n",
    "    \n",
    "    #we need the difference b-a ()\n",
    "    h = b - a\n",
    "    \n",
    "    #and the increment between the new function evaluations\n",
    "    dh = h/2.**(i)\n",
    "    \n",
    "    #we need the cofactor\n",
    "    K = h/2.**(i+1)\n",
    "    \n",
    "    #and the function evaluations\n",
    "    M = 0.0\n",
    "    for j in range(2**i):\n",
    "        M += f(a + 0.5*dh + j*dh)\n",
    "        \n",
    "    return K*M\n",
    "\n",
    "# Define a wrapper function to perform Romberg's method\n",
    "\n",
    "def romberg_integration(f,a,b,tol):\n",
    "    \n",
    "    # define an iteration variable\n",
    "    i = 0\n",
    "    \n",
    "    #define max number of iterations\n",
    "    imax = 1000\n",
    "    \n",
    "    #define an error estimate, set to a large value\n",
    "    delta = 100.0*np.fabs(tol)\n",
    "    \n",
    "    #set an array of integral answers\n",
    "    I = np.zeros(imax, dtype = float)\n",
    "    \n",
    "    #get the zerothromberg iteration\n",
    "    I[0] = 0.5*(b-a)*(f(a) + f(b))\n",
    "    \n",
    "    #iterate by 1\n",
    "    i += 1\n",
    "    \n",
    "    while (delta>tol):\n",
    "        \n",
    "        #find this romberg iteration\n",
    "        I[i] = 0.5*I[i-1] + romberg_core(f,a,b,i)\n",
    "        \n",
    "        #compute the new fractional error estimate\n",
    "        delta = np.fabs((I[i] - I[i-1])/I[i])\n",
    "        \n",
    "        print(i, I[i], I[i-1], delta)\n",
    "        \n",
    "        if (delta>tol):\n",
    "            \n",
    "            #iterate \n",
    "            i += 1\n",
    "            \n",
    "            #if we've reached the maximum iterations\n",
    "            if (i>imax):\n",
    "                print('Max iterations reached')\n",
    "                raise StopIteration('Stopping iterations after', i)\n",
    "                \n",
    "    return I[i]"
   ]
  },
  {
   "cell_type": "markdown",
   "metadata": {},
   "source": [
    "Find integrals"
   ]
  },
  {
   "cell_type": "code",
   "execution_count": null,
   "metadata": {},
   "outputs": [],
   "source": [
    "answer = func_integral(np.pi) - func_integral(0)\n",
    "print('Answer:', answer)\n",
    "\n",
    "print('Trapezoid')\n",
    "print(trapezoid_method(func,0,np.pi,N_trap))\n",
    "\n",
    "print('Simpson')\n",
    "print(simpson_method(func,0,np.pi,N_simp))\n",
    "\n",
    "print('Romberg')\n",
    "tolerance = 1.0e-6\n",
    "RI = romberg_integration(func,0,np.pi,tolerance)\n",
    "print(RI, (RI-answer)/answer, tolerance)"
   ]
  },
  {
   "cell_type": "markdown",
   "metadata": {},
   "source": [
    "Find number of intervals needed for specified accuracy in Trapezoidal and Simpson's methods:"
   ]
  },
  {
   "cell_type": "code",
   "execution_count": null,
   "metadata": {},
   "outputs": [],
   "source": [
    "y = np.linspace(0,np.pi,1000)\n",
    "def deriv2(x):\n",
    "    return (-96*np.exp(-2*x)*np.cos(10*x)) + (40*np.exp(-2*x)*np.sin(10*x))\n",
    "\n",
    "def deriv4(x):\n",
    "    return (7616*np.exp(-2*x)*np.cos(10*x)) - (7680*np.exp(-2*x)*np.sin(10*x))\n",
    "\n",
    "'''\n",
    "I use the formulas for error bounds in Trapezoidal and Simpson's methods:\n",
    "    E_trapeizoidal = ((b-a)^3*deriv2(max))/(12*N^2)\n",
    "    E_simpson = ((b-a)^5*deriv2(max))/(180*N^4)\n",
    "'''\n",
    "\n",
    "values2 = []\n",
    "values4 = []\n",
    "\n",
    "for i in y:\n",
    "    values2.append(deriv2(i))\n",
    "    values4.append(deriv4(i))\n",
    "    \n",
    "max2 = np.max(values2)\n",
    "max4 = np.max(values4)\n",
    "\n",
    "N_trap = (((np.pi)**3*max2)/(12*tolerance))**(1/2)\n",
    "N_simp = (((np.pi)**5*max2)/(180*tolerance))**(1/4)\n",
    "\n",
    "print('Intervals needed for specified accuracy in Trapezoidal Method:', int(np.ceil(N_trap)))\n",
    "print(\"Intervals needed for specified accuracy in Simpson's Method: \", int(np.ceil(N_simp)))"
   ]
  }
 ],
 "metadata": {
  "kernelspec": {
   "display_name": "Python 3",
   "language": "python",
   "name": "python3"
  },
  "language_info": {
   "codemirror_mode": {
    "name": "ipython",
    "version": 3
   },
   "file_extension": ".py",
   "mimetype": "text/x-python",
   "name": "python",
   "nbconvert_exporter": "python",
   "pygments_lexer": "ipython3",
   "version": "3.4.6"
  }
 },
 "nbformat": 4,
 "nbformat_minor": 2
}
